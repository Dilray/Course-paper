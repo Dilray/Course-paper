{
 "cells": [
  {
   "cell_type": "code",
   "execution_count": 14,
   "id": "2d4e8082",
   "metadata": {},
   "outputs": [
    {
     "name": "stdout",
     "output_type": "stream",
     "text": [
      "logreg: F1 = 0.8597\n",
      "randomforest: F1 = 0.9070\n",
      "xgboost: F1 = 0.8985\n",
      "\n",
      "Лучшая модель: randomforest с F1 = 0.9070\n",
      "Модель сохранена в '../models/best_model.pkl'\n"
     ]
    }
   ],
   "source": [
    "import sys\n",
    "from pathlib import Path\n",
    "from data_preprocessing import TextPreprocessor\n",
    "from config import SEED, TEST_SIZE\n",
    "\n",
    "df = pd.read_csv('../data/raw/Spam_SMS.csv')\n",
    "\n",
    "X = df['Message']\n",
    "y = df['Class'].map({'ham': 0, 'spam': 1})\n",
    "\n",
    "# 3.разделение на train/test (хотя cross_val_score сделает это автоматически)\n",
    "X_train, X_test, y_train, y_test = train_test_split(\n",
    "    X, y, test_size=TEST_SIZE, random_state=SEED)\n",
    "\n",
    "# Пайплайны для разных моделей\n",
    "pipelines = {\n",
    "    'logreg': Pipeline([\n",
    "        ('preprocessor', TextPreprocessor()),\n",
    "        ('vectorizer', TfidfVectorizer(max_features=5000)),\n",
    "        ('classifier', LogisticRegression(max_iter=1000))\n",
    "    ]),\n",
    "    'randomforest': Pipeline([\n",
    "        ('preprocessor', TextPreprocessor()),\n",
    "        ('vectorizer', TfidfVectorizer(max_features=5000)),\n",
    "        ('classifier', RandomForestClassifier(n_estimators=100, random_state=SEED))\n",
    "    ]),\n",
    "    'xgboost': Pipeline([\n",
    "        ('preprocessor', TextPreprocessor()),\n",
    "        ('vectorizer', TfidfVectorizer(max_features=5000)),\n",
    "        ('classifier', XGBClassifier(eval_metric='logloss', random_state=SEED))\n",
    "    ])\n",
    "}\n",
    "\n",
    "# кросс-валидация и оценка моделей\n",
    "results = {}\n",
    "for name, pipeline in pipelines.items():\n",
    "    scores = cross_val_score(pipeline, X, y, cv=5, scoring='f1')\n",
    "    results[name] = scores.mean()\n",
    "    print(f\"{name}: F1 = {scores.mean():.4f}\")\n",
    "\n",
    "best_model_name = max(results, key=results.get)\n",
    "print(f\"\\nЛучшая модель: {best_model_name} с F1 = {results[best_model_name]:.4f}\")\n",
    "\n",
    "best_model = pipelines[best_model_name]\n",
    "best_model.fit(X_train, y_train)\n",
    "\n",
    "joblib.dump(best_model, '../models/best_model.pkl')\n",
    "print(\"Модель сохранена в '../models/best_model.pkl'\")"
   ]
  }
 ],
 "metadata": {
  "kernelspec": {
   "display_name": "Python 3",
   "language": "python",
   "name": "python3"
  },
  "language_info": {
   "codemirror_mode": {
    "name": "ipython",
    "version": 3
   },
   "file_extension": ".py",
   "mimetype": "text/x-python",
   "name": "python",
   "nbconvert_exporter": "python",
   "pygments_lexer": "ipython3",
   "version": "3.13.1"
  }
 },
 "nbformat": 4,
 "nbformat_minor": 5
}
